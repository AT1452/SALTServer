{
 "cells": [
  {
   "cell_type": "markdown",
   "metadata": {},
   "source": [
    "# The Matplotlib Jupyter Widget Backend\n",
    "\n",
    "Enabling interaction with matplotlib charts in the Jupyter notebook and JupyterLab\n",
    "\n",
    "https://github.com/matplotlib/jupyter-matplotlib"
   ]
  },
  {
   "cell_type": "code",
   "execution_count": 34,
   "metadata": {},
   "outputs": [
    {
     "data": {
      "text/html": [
       "\n",
       "<style>\n",
       "    div#notebook-container    { width: 95%; }\n",
       "    div#menubar-container     { width: 65%; }\n",
       "    div#maintoolbar-container { width: 99%; }\n",
       "</style>\n"
      ],
      "text/plain": [
       "<IPython.core.display.HTML object>"
      ]
     },
     "metadata": {},
     "output_type": "display_data"
    }
   ],
   "source": [
    "# Enabling the `widget` backend.\n",
    "# This requires jupyter-matplotlib a.k.a. ipympl.\n",
    "# ipympl can be install via pip or conda.\n",
    "%matplotlib widget\n",
    "\n",
    "import matplotlib.pyplot as plt\n",
    "import numpy as np\n",
    "import pandas as pd\n",
    "from matplotlib.colors import hsv_to_rgb\n",
    "from math import atan2, hypot, degrees\n",
    "from ipywidgets import Output\n",
    "from jpy_video import Video  \n",
    "import IPython\n",
    "import ipywidgets as widgets\n",
    "import json\n",
    "\n",
    "with open('./version.json') as f:\n",
    "    version = json.load(f)\n",
    "\n",
    "\n",
    "# f = \"./examples/source.mp4\"\n",
    "\n",
    "txt = \"\"\"\n",
    "<style>\n",
    "    div#notebook-container    { width: 95%; }\n",
    "    div#menubar-container     { width: 65%; }\n",
    "    div#maintoolbar-container { width: 99%; }\n",
    "</style>\n",
    "\"\"\"\n",
    "\n",
    "IPython.display.display(IPython.display.HTML(data=txt))\n",
    "\n",
    "upload = widgets.FileUpload(multiple = True)\n",
    "\n",
    "def handle_upload(change):\n",
    "    vids = ['mov', 'mp4', 'flv', 'wmv']\n",
    "    for i in range(0, len(upload.value)):\n",
    "        f = list(upload.value.values())[i]\n",
    "        name = str(f[\"metadata\"][\"name\"])\n",
    "        content = f[\"content\"]\n",
    "\n",
    "        if (name.split('.')[1] == 'csv'):\n",
    "            csv_name = \"./preds\" + str(version[\"v\"]) + \".csv\"\n",
    "            with open(csv_name, \"w+b\") as i:\n",
    "                i.write(content)\n",
    "        if (name.split('.')[1] in vids):\n",
    "            vid_name = \"./up\" + str(version[\"v\"]) + \".mp4\"\n",
    "            with open(vid_name, \"w+b\") as i:\n",
    "                i.write(content)\n",
    "    version[\"v\"]  = version[\"v\"] + 1\n",
    "\n",
    "    with open(\"./version.json\", \"w\") as f:\n",
    "        json.dump(version, f)\n",
    "\n",
    "upload.observe(handle_upload, names='value')"
   ]
  },
  {
   "cell_type": "markdown",
   "metadata": {},
   "source": [
    "# Video and Graph"
   ]
  },
  {
   "cell_type": "code",
   "execution_count": 35,
   "metadata": {
    "scrolled": true
   },
   "outputs": [
    {
     "data": {
      "application/vnd.jupyter.widget-view+json": {
       "model_id": "4af82a9443c44df2a0a6d3113d26b400",
       "version_major": 2,
       "version_minor": 0
      },
      "text/plain": [
       "VBox(children=(FileUpload(value={}, description='Upload', multiple=True), Button(description='Generate Graph',…"
      ]
     },
     "metadata": {},
     "output_type": "display_data"
    }
   ],
   "source": [
    "output = Output()\n",
    "button = widgets.Button(description='Generate Graph')\n",
    "\n",
    "def on_button_clicked(_):\n",
    "    with output:\n",
    "      # \"linking function with output\"\n",
    "#       with out:\n",
    "#           # what happens when we press the button\n",
    "#           clear_output()\n",
    "#           print('Something happens!')     \n",
    "\n",
    "        # print(list(upload.value.values())[0])\n",
    "        \n",
    "        csv_name = \"./preds\" + str(version[\"v\"] - 1) + \".csv\"\n",
    "        data = pd.read_csv(csv_name, delimiter=\",\")\n",
    "\n",
    "\n",
    "        f = \"./up\" + str(version[\"v\"] - 1) + \".mp4\"\n",
    "        wid = Video(f)\n",
    "        wid.layout.width='640px'\n",
    "        wid._enable_keyboard=True\n",
    "\n",
    "\n",
    "        av_coords = []\n",
    "        angles = []\n",
    "        colors = []\n",
    "        magnitude = []\n",
    "\n",
    "\n",
    "        for (v, a) in zip(data['valence'], data['arousal']):\n",
    "          if(np.isnan(v) or np.isnan(a)):\n",
    "            continue\n",
    "          else:\n",
    "            av_coords.append((v, a))\n",
    "            magnitude.append(hypot(v, a))\n",
    "            deg = (degrees(atan2(a, v)) + 360) % 360;\n",
    "            angles.append(deg)\n",
    "\n",
    "        for angle in angles:\n",
    "          colors.append(hsv_to_rgb([angle/360, 1, 1]))\n",
    "\n",
    "        fig, ax = plt.subplots()\n",
    "        # x = np.arange(0, len(magnitude))\n",
    "        (markers, stemlines, baseline) = plt.stem(magnitude, markerfmt=' ')\n",
    "        plt.setp(stemlines, linestyle=\"-\", color=colors, linewidth=0.5 )\n",
    "\n",
    "        wid.display()\n",
    "\n",
    "        @output.capture()\n",
    "        def onclick(event):\n",
    "#             print('%s click: button=%d, x=%d, y=%d, xdata=%f, ydata=%f' %\n",
    "#                   ('double' if event.dblclick else 'single', event.button,\n",
    "#                    event.x, event.y, event.xdata, event.ydata))\n",
    "            wid.current_time = event.x/30\n",
    "\n",
    "        cid = fig.canvas.mpl_connect('button_press_event', onclick)\n",
    "\n",
    "        plt.show()\n",
    "    \n",
    "button.on_click(on_button_clicked)\n",
    "widgets.VBox([upload, button, output])\n",
    "# display(upload)"
   ]
  },
  {
   "cell_type": "code",
   "execution_count": null,
   "metadata": {},
   "outputs": [],
   "source": []
  }
 ],
 "metadata": {
  "kernelspec": {
   "display_name": "Python 3",
   "language": "python",
   "name": "python3"
  },
  "language_info": {
   "codemirror_mode": {
    "name": "ipython",
    "version": 3
   },
   "file_extension": ".py",
   "mimetype": "text/x-python",
   "name": "python",
   "nbconvert_exporter": "python",
   "pygments_lexer": "ipython3",
   "version": "3.8.5"
  }
 },
 "nbformat": 4,
 "nbformat_minor": 4
}
