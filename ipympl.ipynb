{
 "cells": [
  {
   "cell_type": "markdown",
   "source": [
    "# The Matplotlib Jupyter Widget Backend\n",
    "\n",
    "Enabling interaction with matplotlib charts in the Jupyter notebook and JupyterLab\n",
    "\n",
    "https://github.com/matplotlib/jupyter-matplotlib"
   ],
   "metadata": {}
  },
  {
   "cell_type": "code",
   "execution_count": 34,
   "source": [
    "# Enabling the `widget` backend.\r\n",
    "# This requires jupyter-matplotlib a.k.a. ipympl.\r\n",
    "# ipympl can be install via pip or conda.\r\n",
    "%matplotlib widget\r\n",
    "\r\n",
    "import matplotlib.pyplot as plt\r\n",
    "import numpy as np\r\n",
    "import pandas as pd\r\n",
    "from matplotlib.colors import hsv_to_rgb\r\n",
    "from math import atan2, hypot, degrees\r\n",
    "from ipywidgets import Output\r\n",
    "from jpy_video import Video\r\n",
    "from os import getenv\r\n",
    "import IPython\r\n",
    "import ipywidgets as widgets\r\n",
    "import json\r\n",
    "import boto3\r\n",
    "\r\n",
    "client = boto3.client(\r\n",
    "    's3',\r\n",
    "    aws_access_key_id=getenv(\"AWS_ACCESS_KEY_ID\"),\r\n",
    "    aws_secret_access_key=getenv(\"AWS_SECRET_ACCESS_KEY\")\r\n",
    ")\r\n",
    "\r\n",
    "with open('./version.json') as f:\r\n",
    "    version = json.load(f)\r\n",
    "\r\n",
    "\r\n",
    "# f = \"./examples/source.mp4\"\r\n",
    "\r\n",
    "txt = \"\"\"\r\n",
    "<style>\r\n",
    "    div#notebook-container    { width: 95%; }\r\n",
    "    div#menubar-container     { width: 65%; }\r\n",
    "    div#maintoolbar-container { width: 99%; }\r\n",
    "</style>\r\n",
    "\"\"\"\r\n",
    "\r\n",
    "IPython.display.display(IPython.display.HTML(data=txt))\r\n",
    "\r\n",
    "upload = widgets.FileUpload(multiple = True)\r\n",
    "\r\n",
    "def handle_upload(change):\r\n",
    "    vids = ['mov', 'mp4', 'flv', 'wmv']\r\n",
    "    for i in range(0, len(upload.value)):\r\n",
    "        f = list(upload.value.values())[i]\r\n",
    "        name = str(f[\"metadata\"][\"name\"])\r\n",
    "        content = f[\"content\"]\r\n",
    "\r\n",
    "        if (name.split('.')[1] == 'csv'):\r\n",
    "            # csv_name = \"./preds\" + str(version[\"v\"]) + \".csv\"\r\n",
    "            csv_name = \"./preds.csv\"\r\n",
    "            with open(csv_name, \"w+b\") as i:\r\n",
    "                i.write(content)            \r\n",
    "            with open(csv_name, \"rb\") as f:\r\n",
    "                client.upload_fileobj(f, \"saltlab-storage\", \"preds.csv\")\r\n",
    "\r\n",
    "        if (name.split('.')[1] in vids):\r\n",
    "            # vid_name = \"./up\" + str(version[\"v\"]) + \".mp4\"\r\n",
    "            vid_name = \"./up.mp4\"\r\n",
    "            # print(vid_name)\r\n",
    "            with open(vid_name, \"w+b\") as i:\r\n",
    "                i.write(content)\r\n",
    "            with open(vid_name, \"rb\") as f:\r\n",
    "                client.upload_fileobj(f, \"saltlab-storage\", \"up.mp4\")\r\n",
    "    # version[\"v\"]  = version[\"v\"] + 1\r\n",
    "\r\n",
    "    # with open(\"./version.json\", \"w\") as f:\r\n",
    "    #     json.dump(version, f)\r\n",
    "\r\n",
    "upload.observe(handle_upload, names='value')"
   ],
   "outputs": [
    {
     "output_type": "display_data",
     "data": {
      "text/plain": [
       "<IPython.core.display.HTML object>"
      ],
      "text/html": [
       "\n",
       "<style>\n",
       "    div#notebook-container    { width: 95%; }\n",
       "    div#menubar-container     { width: 65%; }\n",
       "    div#maintoolbar-container { width: 99%; }\n",
       "</style>\n"
      ]
     },
     "metadata": {}
    }
   ],
   "metadata": {}
  },
  {
   "cell_type": "markdown",
   "source": [
    "# Video and Graph"
   ],
   "metadata": {}
  },
  {
   "cell_type": "code",
   "execution_count": 35,
   "source": [
    "output = Output()\r\n",
    "button = widgets.Button(description='Generate Graph')\r\n",
    "\r\n",
    "def on_button_clicked(_):\r\n",
    "    with output:\r\n",
    "      # \"linking function with output\"\r\n",
    "#       with out:\r\n",
    "#           # what happens when we press the button\r\n",
    "#           clear_output()\r\n",
    "#           print('Something happens!')     \r\n",
    "\r\n",
    "        # print(list(upload.value.values())[0])\r\n",
    "        \r\n",
    "        # csv_name = \"./preds\" + str(version[\"v\"] - 1) + \".csv\"\r\n",
    "        csv_name = \"https://salt-lab.herokuapp.com/preds.csv\"\r\n",
    "        data = pd.read_csv(csv_name, delimiter=\",\")\r\n",
    "\r\n",
    "\r\n",
    "        # f = \"./up\" + str(version[\"v\"] - 1) + \".mp4\"\r\n",
    "        f = \"https://salt-lab.herokuapp.com/up.mp4\"\r\n",
    "        print(f)\r\n",
    "        wid = Video(f)\r\n",
    "        wid.layout.width='640px'\r\n",
    "        wid._enable_keyboard=True\r\n",
    "\r\n",
    "\r\n",
    "        av_coords = []\r\n",
    "        angles = []\r\n",
    "        colors = []\r\n",
    "        magnitude = []\r\n",
    "\r\n",
    "\r\n",
    "        for (v, a) in zip(data['valence'], data['arousal']):\r\n",
    "          if(np.isnan(v) or np.isnan(a)):\r\n",
    "            continue\r\n",
    "          else:\r\n",
    "            av_coords.append((v, a))\r\n",
    "            magnitude.append(hypot(v, a))\r\n",
    "            deg = (degrees(atan2(a, v)) + 360) % 360;\r\n",
    "            angles.append(deg)\r\n",
    "\r\n",
    "        for angle in angles:\r\n",
    "          colors.append(hsv_to_rgb([angle/360, 1, 1]))\r\n",
    "\r\n",
    "        fig, ax = plt.subplots()\r\n",
    "        # x = np.arange(0, len(magnitude))\r\n",
    "        (markers, stemlines, baseline) = plt.stem(magnitude, markerfmt=' ')\r\n",
    "        plt.setp(stemlines, linestyle=\"-\", color=colors, linewidth=0.5 )\r\n",
    "\r\n",
    "        wid.display()\r\n",
    "\r\n",
    "        @output.capture()\r\n",
    "        def onclick(event):\r\n",
    "#             print('%s click: button=%d, x=%d, y=%d, xdata=%f, ydata=%f' %\r\n",
    "#                   ('double' if event.dblclick else 'single', event.button,\r\n",
    "#                    event.x, event.y, event.xdata, event.ydata))\r\n",
    "            wid.current_time = event.x/30\r\n",
    "\r\n",
    "        cid = fig.canvas.mpl_connect('button_press_event', onclick)\r\n",
    "\r\n",
    "        plt.show()\r\n",
    "    \r\n",
    "button.on_click(on_button_clicked)\r\n",
    "widgets.VBox([upload, button, output])\r\n",
    "# display(upload)"
   ],
   "outputs": [
    {
     "output_type": "display_data",
     "data": {
      "text/plain": [
       "VBox(children=(FileUpload(value={}, description='Upload', multiple=True), Button(description='Generate Graph',…"
      ],
      "application/vnd.jupyter.widget-view+json": {
       "model_id": "4af82a9443c44df2a0a6d3113d26b400",
       "version_major": 2,
       "version_minor": 0
      }
     },
     "metadata": {}
    }
   ],
   "metadata": {
    "scrolled": true
   }
  },
  {
   "cell_type": "code",
   "execution_count": null,
   "source": [],
   "outputs": [],
   "metadata": {}
  }
 ],
 "metadata": {
  "kernelspec": {
   "display_name": "Python 3",
   "language": "python",
   "name": "python3"
  },
  "language_info": {
   "codemirror_mode": {
    "name": "ipython",
    "version": 3
   },
   "file_extension": ".py",
   "mimetype": "text/x-python",
   "name": "python",
   "nbconvert_exporter": "python",
   "pygments_lexer": "ipython3",
   "version": "3.8.5"
  }
 },
 "nbformat": 4,
 "nbformat_minor": 4
}